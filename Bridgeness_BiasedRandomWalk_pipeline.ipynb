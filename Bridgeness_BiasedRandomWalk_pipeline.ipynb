{
 "cells": [
  {
   "cell_type": "code",
   "execution_count": 1,
   "metadata": {
    "collapsed": true
   },
   "outputs": [],
   "source": [
    "import pandas as pd\n",
    "import numpy as np\n",
    "import random\n",
    "import networkx as nx\n",
    "import bridgeness\n",
    "from numpy.random import choice, uniform"
   ]
  },
  {
   "cell_type": "code",
   "execution_count": 4,
   "metadata": {
    "collapsed": true
   },
   "outputs": [],
   "source": [
    "FN = \"graph2.txt.csv\"\n",
    "data = pd.read_csv(FN, delimiter = \" \")\n",
    "\n",
    "G = nx.Graph()\n",
    "\n",
    "for i,s in data.iterrows():\n",
    "    u = s[0]\n",
    "    v = s[1]\n",
    "\n",
    "    G.add_edge(u,v)\n",
    "    "
   ]
  },
  {
   "cell_type": "code",
   "execution_count": 5,
   "metadata": {
    "collapsed": false
   },
   "outputs": [
    {
     "data": {
      "text/plain": [
       "NodeView((1, 2, 3, 4, 5, 6, 7, 8, 9, 10, 11, 12, 13, 14, 15, 16, 17, 18, 19, 20, 21, 22, 23, 24, 25, 26, 27, 28, 29, 30, 31, 32, 33, 34, 35, 36, 37, 38, 39, 40, 41, 42, 43, 44, 45, 46, 47, 48, 49, 50, 51, 52, 53, 54, 55, 56, 57, 58, 59, 60, 61, 62, 63, 64, 65, 66, 67, 68, 69, 70, 71, 72, 73, 74, 75, 76, 77, 78, 79, 80, 81, 82, 83, 84, 85, 86, 87, 88, 89, 90, 91, 92, 93, 94, 95, 96, 97, 98, 99, 100, 101, 102, 103, 104, 105, 106, 107, 108, 109, 110, 111, 112, 113, 114, 115, 116, 117, 118, 119, 120, 121, 122, 123, 124, 125, 126, 127, 128, 129, 130, 131, 132, 133, 134, 135, 136, 137, 138, 139, 140, 141, 142, 143, 144, 145, 146, 147, 148, 149, 150, 151, 152, 153, 154, 155, 156, 157, 158, 159, 160, 161, 162, 163, 164, 165, 166, 167, 168, 169, 170, 171, 172, 173, 174, 175, 176, 177, 178, 179, 180, 181, 182, 183, 184, 185, 186, 187, 188, 189, 190, 191, 192, 193, 194, 195, 196, 197, 198, 199, 200))"
      ]
     },
     "execution_count": 5,
     "metadata": {},
     "output_type": "execute_result"
    }
   ],
   "source": [
    "#G.nodes()"
   ]
  },
  {
   "cell_type": "code",
   "execution_count": 6,
   "metadata": {
    "collapsed": false
   },
   "outputs": [],
   "source": [
    "bri = bridgeness.bridgeness_centrality(G)\n",
    "#e_bri = bridgeness.edge_bridgeness_centrality(G)\n",
    "#bet = bridgeness.betweenness_centrality(G)"
   ]
  },
  {
   "cell_type": "code",
   "execution_count": 49,
   "metadata": {
    "collapsed": false
   },
   "outputs": [],
   "source": [
    "phi = 100\n",
    "mu = 0.2\n",
    "lab0 = 81  #82 in matlab\n",
    "lab1 = 190 #191 in matlab\n",
    "\n",
    "adj = nx.to_numpy_matrix(G)\n",
    "bri_vals = list(bri.values())\n",
    "quality = (1 / np.exp( np.multiply( bri_vals, phi )))\n",
    "diag = np.diagflat(quality) #k: v = node, bridgeness\n",
    "_tmp = np.matmul(diag, adj)\n",
    "_tmp_sum_on_rows = np.sum(_tmp, axis=0)\n",
    "_tmp_sum_on_rows_recip = np.reciprocal(_tmp_sum_on_rows)\n",
    "norm = np.diagflat( _tmp_sum_on_rows_recip )\n",
    "\n",
    "T = np.matmul( _tmp, norm )\n",
    "\n",
    "num_nodes = len(G.nodes())\n",
    "alpha = 2.0/(2.0 + mu)\n",
    "prob_comm = T \n",
    "\n",
    "labels = np.zeros( (num_nodes, 2) )\n",
    "labels[lab0,0] = 1\n",
    "labels[lab1,1] = 1\n",
    "\n",
    "op1 = (1-alpha) * np.eye(num_nodes) \n",
    "op2 = ( np.eye(num_nodes) - ( alpha * T))\n",
    "op = np.dot(op1, op2.I)\n",
    "\n",
    "probs = np.dot(op, labels)"
   ]
  },
  {
   "cell_type": "code",
   "execution_count": 50,
   "metadata": {
    "collapsed": false
   },
   "outputs": [],
   "source": [
    "#pd.DataFrame.to_csv(pd.DataFrame(probs), 'probs.csv')"
   ]
  },
  {
   "cell_type": "code",
   "execution_count": null,
   "metadata": {
    "collapsed": false,
    "scrolled": false
   },
   "outputs": [
    {
     "name": "stdout",
     "output_type": "stream",
     "text": [
      "Alpha = 0.909\n",
      "At step 10000, diff 0.0285454800\n",
      "At step 20000, diff 0.0074642700\n",
      "At step 30000, diff 0.0034363867\n",
      "At step 40000, diff 0.0018923038\n",
      "At step 50000, diff 0.0011974880\n",
      "At step 60000, diff 0.0008629828\n",
      "At step 70000, diff 0.0006179037\n",
      "At step 80000, diff 0.0004638200\n",
      "At step 90000, diff 0.0003757723\n",
      "At step 100000, diff 0.0003066400\n",
      "At step 110000, diff 0.0002462471\n",
      "At step 120000, diff 0.0002134525\n",
      "At step 130000, diff 0.0001753608\n",
      "At step 140000, diff 0.0001564294\n",
      "At step 150000, diff 0.0001362057\n",
      "At step 160000, diff 0.0001164367\n",
      "At step 170000, diff 0.0001019649\n",
      "At step 180000, diff 0.0000985472\n",
      "At step 190000, diff 0.0000826402\n",
      "At step 200000, diff 0.0000747260\n",
      "At step 210000, diff 0.0000722736\n",
      "At step 220000, diff 0.0000654343\n",
      "At step 230000, diff 0.0000586597\n",
      "At step 240000, diff 0.0000534279\n",
      "At step 250000, diff 0.0000518699\n",
      "At step 260000, diff 0.0000458226\n",
      "At step 270000, diff 0.0000429433\n",
      "At step 280000, diff 0.0000389196\n",
      "At step 290000, diff 0.0000366735\n",
      "At step 300000, diff 0.0000323949\n",
      "At step 310000, diff 0.0000330433\n",
      "At step 320000, diff 0.0000283716\n",
      "At step 330000, diff 0.0000286102\n",
      "At step 340000, diff 0.0000263788\n",
      "At step 350000, diff 0.0000247288\n",
      "At step 360000, diff 0.0000227774\n",
      "At step 370000, diff 0.0000215946\n",
      "At step 380000, diff 0.0000213184\n",
      "At step 390000, diff 0.0000206188\n",
      "At step 400000, diff 0.0000199947\n",
      "At step 410000, diff 0.0000183596\n",
      "At step 420000, diff 0.0000166378\n",
      "At step 430000, diff 0.0000165010\n",
      "At step 440000, diff 0.0000151439\n",
      "At step 450000, diff 0.0000151853\n",
      "At step 460000, diff 0.0000148577\n",
      "At step 470000, diff 0.0000136111\n",
      "At step 480000, diff 0.0000128794\n",
      "At step 490000, diff 0.0000124437\n",
      "At step 500000, diff 0.0000122694\n",
      "At step 510000, diff 0.0000125539\n",
      "At step 520000, diff 0.0000110761\n",
      "At step 530000, diff 0.0000112953\n",
      "At step 540000, diff 0.0000098416\n",
      "At step 550000, diff 0.0000101060\n",
      "At step 560000, diff 0.0000094852\n",
      "At step 570000, diff 0.0000094991\n",
      "At step 580000, diff 0.0000096340\n",
      "At step 590000, diff 0.0000092329\n",
      "At step 600000, diff 0.0000082825\n",
      "At step 610000, diff 0.0000078017\n",
      "At step 620000, diff 0.0000080747\n",
      "At step 630000, diff 0.0000076540\n",
      "At step 640000, diff 0.0000075368\n",
      "At step 650000, diff 0.0000068720\n",
      "At step 660000, diff 0.0000070288\n",
      "At step 670000, diff 0.0000066237\n",
      "At step 680000, diff 0.0000065331\n",
      "At step 690000, diff 0.0000067349\n",
      "At step 700000, diff 0.0000060426\n",
      "At step 710000, diff 0.0000061322\n",
      "At step 720000, diff 0.0000056445\n",
      "At step 730000, diff 0.0000057196\n",
      "At step 740000, diff 0.0000055408\n",
      "At step 750000, diff 0.0000054246\n",
      "At step 760000, diff 0.0000054929\n",
      "At step 770000, diff 0.0000054174\n",
      "At step 780000, diff 0.0000048051\n",
      "At step 790000, diff 0.0000049603\n",
      "At step 800000, diff 0.0000047912\n",
      "At step 810000, diff 0.0000047491\n",
      "At step 820000, diff 0.0000044448\n",
      "At step 830000, diff 0.0000043834\n",
      "At step 840000, diff 0.0000042696\n",
      "At step 850000, diff 0.0000045176\n",
      "At step 860000, diff 0.0000042442\n",
      "At step 870000, diff 0.0000038419\n",
      "At step 880000, diff 0.0000039350\n",
      "At step 890000, diff 0.0000037839\n",
      "At step 900000, diff 0.0000035202\n",
      "At step 910000, diff 0.0000034960\n",
      "At step 920000, diff 0.0000034544\n",
      "At step 930000, diff 0.0000035567\n",
      "At step 940000, diff 0.0000034347\n",
      "At step 950000, diff 0.0000033365\n",
      "At step 960000, diff 0.0000032377\n",
      "At step 970000, diff 0.0000031093\n",
      "At step 980000, diff 0.0000033764\n",
      "At step 990000, diff 0.0000032014\n",
      "At step 1000000, diff 0.0000029791\n",
      "At step 1010000, diff 0.0000029710\n",
      "At step 1020000, diff 0.0000029960\n",
      "At step 1030000, diff 0.0000028512\n",
      "At step 1040000, diff 0.0000028854\n",
      "At step 1050000, diff 0.0000028348\n",
      "At step 1060000, diff 0.0000027199\n",
      "At step 1070000, diff 0.0000026459\n",
      "At step 1080000, diff 0.0000026184\n",
      "At step 1090000, diff 0.0000026040\n",
      "At step 1100000, diff 0.0000025410\n",
      "At step 1110000, diff 0.0000023642\n",
      "At step 1120000, diff 0.0000024075\n",
      "At step 1130000, diff 0.0000024239\n",
      "At step 1140000, diff 0.0000024263\n",
      "At step 1150000, diff 0.0000023510\n",
      "At step 1160000, diff 0.0000022836\n",
      "At step 1170000, diff 0.0000022577\n",
      "At step 1180000, diff 0.0000022019\n",
      "At step 1190000, diff 0.0000021899\n",
      "At step 1200000, diff 0.0000020965\n",
      "At step 1210000, diff 0.0000022214\n",
      "At step 1220000, diff 0.0000021789\n",
      "At step 1230000, diff 0.0000019264\n",
      "At step 1240000, diff 0.0000019901\n",
      "At step 1250000, diff 0.0000019209\n",
      "At step 1260000, diff 0.0000019257\n",
      "At step 1270000, diff 0.0000017827\n",
      "At step 1280000, diff 0.0000019265\n",
      "At step 1290000, diff 0.0000017806\n",
      "At step 1300000, diff 0.0000017747\n",
      "At step 1310000, diff 0.0000017533\n",
      "At step 1320000, diff 0.0000016947\n",
      "At step 1330000, diff 0.0000017532\n",
      "At step 1340000, diff 0.0000017098\n",
      "At step 1350000, diff 0.0000016265\n",
      "At step 1360000, diff 0.0000016383\n",
      "At step 1370000, diff 0.0000016442\n",
      "At step 1380000, diff 0.0000016395\n",
      "At step 1390000, diff 0.0000015441\n",
      "At step 1400000, diff 0.0000015685\n",
      "At step 1410000, diff 0.0000015498\n",
      "At step 1420000, diff 0.0000015435\n",
      "At step 1430000, diff 0.0000014745\n",
      "At step 1440000, diff 0.0000014930\n",
      "At step 1450000, diff 0.0000014528\n",
      "At step 1460000, diff 0.0000014898\n",
      "At step 1470000, diff 0.0000013896\n",
      "At step 1480000, diff 0.0000013866\n",
      "At step 1490000, diff 0.0000013624\n",
      "At step 1500000, diff 0.0000013663\n",
      "At step 1510000, diff 0.0000013175\n",
      "At step 1520000, diff 0.0000012654\n",
      "At step 1530000, diff 0.0000013218\n",
      "At step 1540000, diff 0.0000012795\n",
      "At step 1550000, diff 0.0000012516\n",
      "At step 1560000, diff 0.0000012594\n",
      "At step 1570000, diff 0.0000012420\n",
      "At step 1580000, diff 0.0000012264\n",
      "At step 1590000, diff 0.0000012014\n",
      "At step 1600000, diff 0.0000012043\n",
      "At step 1610000, diff 0.0000012667\n",
      "At step 1620000, diff 0.0000011994\n",
      "At step 1630000, diff 0.0000011358\n",
      "At step 1640000, diff 0.0000011505\n",
      "At step 1650000, diff 0.0000011673\n",
      "At step 1660000, diff 0.0000011838\n",
      "At step 1670000, diff 0.0000011014\n",
      "At step 1680000, diff 0.0000010533\n",
      "At step 1690000, diff 0.0000010651\n",
      "At step 1700000, diff 0.0000011152\n",
      "At step 1710000, diff 0.0000010108\n",
      "At step 1720000, diff 0.0000010192\n",
      "At step 1730000, diff 0.0000010328\n",
      "At step 1740000, diff 0.0000010691\n",
      "At step 1750000, diff 0.0000009902\n",
      "Converged at <0.0000010000\n",
      "At step 10000, diff 0.0246252800\n",
      "At step 20000, diff 0.0062321500\n",
      "At step 30000, diff 0.0028656244\n",
      "At step 40000, diff 0.0014856925\n",
      "At step 50000, diff 0.0009921192\n",
      "At step 60000, diff 0.0007208067\n",
      "At step 70000, diff 0.0005230000\n",
      "At step 80000, diff 0.0004047669\n",
      "At step 90000, diff 0.0003134852\n",
      "At step 100000, diff 0.0002518136\n",
      "At step 110000, diff 0.0002082529\n",
      "At step 120000, diff 0.0001750683\n",
      "At step 130000, diff 0.0001570538\n",
      "At step 140000, diff 0.0001288694\n",
      "At step 150000, diff 0.0001156192\n",
      "At step 160000, diff 0.0001012295\n",
      "At step 170000, diff 0.0000833880\n",
      "At step 180000, diff 0.0000757198\n",
      "At step 190000, diff 0.0000660376\n",
      "At step 200000, diff 0.0000605972\n",
      "At step 210000, diff 0.0000557795\n"
     ]
    }
   ],
   "source": [
    "#2-comm RW\n",
    "\n",
    "#start from lab0(s), lab1(s)\n",
    "\n",
    "steps = 10000000 #max steps\n",
    "convcheckfreq = 10000 #check if converged every N steps\n",
    "conv_thr = 1e-06\n",
    "\n",
    "n0 = lab0\n",
    "n1 = lab1\n",
    "\n",
    "labels=[n0,n1]\n",
    "\n",
    "#visit probability vec\n",
    "rw_visits = np.zeros( (num_nodes, 2) )\n",
    "last_rw_visits = np.copy(rw_visits)\n",
    "\n",
    "nodes = range(num_nodes)\n",
    "\n",
    "print(\"Alpha = %.3f\" %(alpha))\n",
    "\n",
    "#COMM0\n",
    "for s0 in range(1,steps+1):\n",
    "\n",
    "    #start from\n",
    "    #go back to labeled node? prob = 1-alpha; prob to trans = alpha\n",
    "    if (uniform() < alpha): #\n",
    "        trans_probs = T[:,n0].view(np.ndarray).flatten() \n",
    "        trans_to = int( choice(nodes, 1, p = trans_probs) )\n",
    "        n0 = trans_to\n",
    "    else:\n",
    "        n0 = lab0\n",
    "\n",
    "    rw_visits[n0,0] += 1\n",
    "    \n",
    "    if (s0 % convcheckfreq == 0):\n",
    "        diff_rw_visits = ((rw_visits[:,0]/s0 - last_rw_visits[:,0]/s0)**2).sum()\n",
    "        print(\"At step %d, diff %.10f\" %(s0, diff_rw_visits) )\n",
    "        if ((diff_rw_visits) < conv_thr):# and np.all(rw_visits != last_rw_visits)):\n",
    "            print(\"Converged at <%.10f\" % conv_thr)\n",
    "            break\n",
    "        last_rw_visits = np.copy(rw_visits)\n",
    "\n",
    "#COMM1\n",
    "for s1 in range(1,steps+1):\n",
    "\n",
    "    #start from\n",
    "    #go back to labeled node? prob = 1-alpha; prob to trans = alpha\n",
    "    if (uniform() < alpha):\n",
    "        trans_probs = T[:,n1].view(np.ndarray).flatten() \n",
    "        trans_to = int( choice(nodes, 1, p = trans_probs) )\n",
    "        n1 = trans_to\n",
    "    else:\n",
    "        n1 = lab1\n",
    "\n",
    "    rw_visits[n1,1] += 1\n",
    "    \n",
    "    if (s1 % convcheckfreq == 0):\n",
    "        diff_rw_visits = ((rw_visits[:,1]/s1 - last_rw_visits[:,1]/s1)**2).sum()\n",
    "        print(\"At step %d, diff %.10f\" %(s1, diff_rw_visits) )\n",
    "        if ((diff_rw_visits) < conv_thr):# and np.all(rw_visits != last_rw_visits)):\n",
    "            print(\"Converged at <%.10f\" % conv_thr)\n",
    "            break\n",
    "        last_rw_visits = np.copy(rw_visits)\n"
   ]
  },
  {
   "cell_type": "code",
   "execution_count": 56,
   "metadata": {
    "collapsed": false
   },
   "outputs": [
    {
     "name": "stdout",
     "output_type": "stream",
     "text": [
      "[6.26900e-03 0.00000e+00 1.83720e-02 3.49000e-04 3.91100e-03 9.75000e-04\n",
      " 2.50990e-02 8.30000e-05 0.00000e+00 1.12500e-03 5.46000e-04 3.14760e-02\n",
      " 1.05400e-03 1.76010e-02 0.00000e+00 1.09640e-02 4.01000e-04 7.90000e-05\n",
      " 3.66900e-03 5.60000e-05 1.27500e-03 2.27600e-03 1.81800e-02 3.74300e-03\n",
      " 7.33300e-03 2.76100e-03 2.04610e-02 4.00000e-06 3.06600e-03 2.69360e-02\n",
      " 3.17800e-02 1.36270e-02 1.33700e-02 3.17000e-04 6.13700e-03 1.28570e-02\n",
      " 9.62600e-03 1.48000e-03 8.90000e-04 2.62400e-03 2.03000e-04 1.32750e-02\n",
      " 7.14000e-04 6.57300e-03 2.54430e-02 2.90000e-04 3.07590e-02 9.82000e-03\n",
      " 8.06000e-04 3.13900e-03 2.29800e-03 1.27100e-03 1.11400e-03 2.36850e-02\n",
      " 1.90110e-02 5.77000e-04 2.31870e-02 1.00000e-04 4.92700e-03 1.87840e-02\n",
      " 6.50000e-05 1.74110e-02 9.40000e-05 8.50000e-05 1.89920e-02 1.53300e-02\n",
      " 9.99000e-04 3.13000e-04 2.84740e-02 2.86630e-02 8.38000e-04 1.81320e-02\n",
      " 5.72000e-04 3.41600e-03 2.86290e-02 3.27200e-03 3.25000e-04 3.95500e-03\n",
      " 6.67200e-03 2.16420e-02 5.37500e-03 1.12468e-01 2.57920e-02 3.07000e-04\n",
      " 2.70600e-03 2.65210e-02 2.51030e-02 6.98000e-03 1.99760e-02 2.16100e-03\n",
      " 4.12700e-03 1.15600e-03 2.31930e-02 1.00700e-03 2.07330e-02 1.54000e-04\n",
      " 2.32700e-02 4.68200e-03 9.61000e-03 3.50000e-05 0.00000e+00 0.00000e+00\n",
      " 1.00000e-06 0.00000e+00 0.00000e+00 0.00000e+00 0.00000e+00 0.00000e+00\n",
      " 0.00000e+00 0.00000e+00 0.00000e+00 0.00000e+00 0.00000e+00 1.00000e-06\n",
      " 1.00000e-06 0.00000e+00 0.00000e+00 0.00000e+00 0.00000e+00 0.00000e+00\n",
      " 0.00000e+00 0.00000e+00 0.00000e+00 0.00000e+00 0.00000e+00 0.00000e+00\n",
      " 0.00000e+00 0.00000e+00 0.00000e+00 0.00000e+00 0.00000e+00 0.00000e+00\n",
      " 0.00000e+00 0.00000e+00 0.00000e+00 0.00000e+00 0.00000e+00 1.00000e-06\n",
      " 0.00000e+00 0.00000e+00 0.00000e+00 0.00000e+00 0.00000e+00 0.00000e+00\n",
      " 2.00000e-06 0.00000e+00 0.00000e+00 0.00000e+00 0.00000e+00 0.00000e+00\n",
      " 0.00000e+00 0.00000e+00 0.00000e+00 1.00000e-06 0.00000e+00 0.00000e+00\n",
      " 0.00000e+00 0.00000e+00 0.00000e+00 1.00000e-06 0.00000e+00 1.00000e-06\n",
      " 0.00000e+00 0.00000e+00 2.00000e-06 0.00000e+00 0.00000e+00 0.00000e+00\n",
      " 0.00000e+00 1.00000e-06 0.00000e+00 0.00000e+00 0.00000e+00 0.00000e+00\n",
      " 1.00000e-06 0.00000e+00 0.00000e+00 0.00000e+00 0.00000e+00 0.00000e+00\n",
      " 0.00000e+00 1.00000e-06 1.00000e-06 0.00000e+00 0.00000e+00 1.00000e-06\n",
      " 0.00000e+00 0.00000e+00 0.00000e+00 0.00000e+00 0.00000e+00 0.00000e+00\n",
      " 0.00000e+00 0.00000e+00 0.00000e+00 0.00000e+00 1.00000e-06 0.00000e+00\n",
      " 0.00000e+00 0.00000e+00]\n"
     ]
    }
   ],
   "source": [
    "#comm_cf = ( (probs[:,0]) > (probs[:,1]) )\n",
    "#comm_rw = ( (rw_visits[:,0]/s0) > (rw_visits[:,1]/s1) )\n",
    "#print(comm_cf, comm_rw)\n",
    "\n",
    "#print(rw_visits[:,0]/s0)\n",
    "#print(rw_visits[:,1]/s1)\n",
    "#print(sum(rw_visits[:,0]/s0))\n",
    "#print(sum(rw_visits[:,1]/s1))"
   ]
  },
  {
   "cell_type": "code",
   "execution_count": 16,
   "metadata": {
    "collapsed": false
   },
   "outputs": [],
   "source": [
    "#crosscheck\n",
    "#matlab_solution = pd.read_csv(\"solution-matlab-graph2-200nodi-twomoons.txt\", delimiter = \" \", skipinitialspace=True, header=None)"
   ]
  },
  {
   "cell_type": "code",
   "execution_count": 35,
   "metadata": {
    "collapsed": false
   },
   "outputs": [],
   "source": [
    "#compare = pd.concat([matlab_solution, pd.DataFrame(probs)], axis=1)\n",
    "#compare.columns = ['matlab0', 'matlab1', 'rw0', 'rw1']\n",
    "\n",
    "#compare['diff0']=compare['matlab0']-compare['rw0']\n",
    "#compare['diff1']=compare['matlab1']-compare['rw1']\n",
    "#compare['comm_matlab'] = np.where( (compare['matlab0']>compare['matlab1']), 0, 1)\n",
    "#compare['comm_rw'] = np.where( (compare['rw0']>compare['rw1']), 0, 1)"
   ]
  },
  {
   "cell_type": "code",
   "execution_count": 38,
   "metadata": {
    "collapsed": false
   },
   "outputs": [],
   "source": [
    "#pd.DataFrame.to_csv(pd.DataFrame(compare), 'compare.csv')"
   ]
  },
  {
   "cell_type": "code",
   "execution_count": 45,
   "metadata": {
    "collapsed": false
   },
   "outputs": [],
   "source": [
    "#probs\n",
    "#bri_vals\n",
    "#op\n",
    "#pd.DataFrame.to_csv(pd.DataFrame(op), 'operator_py.csv')"
   ]
  },
  {
   "cell_type": "code",
   "execution_count": null,
   "metadata": {
    "collapsed": true
   },
   "outputs": [],
   "source": []
  }
 ],
 "metadata": {
  "kernelspec": {
   "display_name": "Python 3",
   "language": "python",
   "name": "python3"
  },
  "language_info": {
   "codemirror_mode": {
    "name": "ipython",
    "version": 3
   },
   "file_extension": ".py",
   "mimetype": "text/x-python",
   "name": "python",
   "nbconvert_exporter": "python",
   "pygments_lexer": "ipython3",
   "version": "3.4.3"
  }
 },
 "nbformat": 4,
 "nbformat_minor": 0
}

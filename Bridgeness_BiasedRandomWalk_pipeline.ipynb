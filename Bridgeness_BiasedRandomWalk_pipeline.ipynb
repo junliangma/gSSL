{
 "cells": [
  {
   "cell_type": "code",
   "execution_count": 1,
   "metadata": {
    "collapsed": true
   },
   "outputs": [],
   "source": [
    "import pandas as pd\n",
    "import numpy as np\n",
    "import random\n",
    "import networkx as nx\n",
    "import bridgeness\n",
    "from numpy.random import choice, uniform"
   ]
  },
  {
   "cell_type": "code",
   "execution_count": 2,
   "metadata": {
    "collapsed": false
   },
   "outputs": [],
   "source": [
    "FN = \"graph.txt.csv\"\n",
    "data = pd.read_csv(FN, delimiter = \" \")\n",
    "\n",
    "G = nx.Graph()\n",
    "\n",
    "for i,s in data.iterrows():\n",
    "    u = s[0]\n",
    "    v = s[1]\n",
    "\n",
    "    G.add_edge(u,v)"
   ]
  },
  {
   "cell_type": "code",
   "execution_count": 3,
   "metadata": {
    "collapsed": false
   },
   "outputs": [],
   "source": [
    "bri = bridgeness.bridgeness_centrality(G)\n",
    "#e_bri = bridgeness.edge_bridgeness_centrality(G)\n",
    "#bet = bridgeness.betweenness_centrality(G)"
   ]
  },
  {
   "cell_type": "code",
   "execution_count": 7,
   "metadata": {
    "collapsed": false
   },
   "outputs": [],
   "source": [
    "phi = 100\n",
    "mu = 0.2\n",
    "lab0 = 95\n",
    "lab1 = 190\n",
    "\n",
    "adj = nx.to_numpy_matrix(G)\n",
    "bri_vals = list(bri.values())\n",
    "quality = (1 / np.exp( np.multiply( bri_vals, phi )))\n",
    "diag = np.diagflat(quality) #k: v = node, bridgeness\n",
    "_tmp = np.matmul(diag, adj)\n",
    "_tmp_sum_on_rows = np.sum(_tmp, axis=0)\n",
    "_tmp_sum_on_rows_recip = np.reciprocal(_tmp_sum_on_rows)\n",
    "norm = np.diagflat( _tmp_sum_on_rows_recip )\n",
    "\n",
    "T = np.matmul( _tmp, norm )\n",
    "\n",
    "num_nodes = len(G.nodes())\n",
    "alpha = 2.0/(2.0 + mu)\n",
    "prob_comm = T \n",
    "\n",
    "labels = np.zeros( (num_nodes, 2) )\n",
    "labels[lab0,0] = 1\n",
    "labels[lab1,1] = 1\n",
    "\n",
    "op1 = (1-alpha) * np.eye(num_nodes) \n",
    "op2 = ( np.eye(num_nodes) - ( alpha * T))\n",
    "op = np.dot(op1, op2.I)\n",
    "\n",
    "probs = np.dot(op, labels)"
   ]
  },
  {
   "cell_type": "code",
   "execution_count": 8,
   "metadata": {
    "collapsed": false
   },
   "outputs": [],
   "source": [
    "#pd.DataFrame.to_csv(pd.DataFrame(probs), 'probs.csv')"
   ]
  },
  {
   "cell_type": "code",
   "execution_count": null,
   "metadata": {
    "collapsed": false,
    "scrolled": false
   },
   "outputs": [
    {
     "name": "stdout",
     "output_type": "stream",
     "text": [
      "Alpha = 0.909\n",
      "At step 10000, diff 0.0308368200\n",
      "At step 20000, diff 0.0074185050\n",
      "At step 30000, diff 0.0033096111\n"
     ]
    }
   ],
   "source": [
    "#2-comm RW\n",
    "\n",
    "#start from lab0(s), lab1(s)\n",
    "\n",
    "steps = 1000000 #max steps\n",
    "convcheckfreq = 10000 #check if converged every N steps\n",
    "conv_thr = 1e-06\n",
    "\n",
    "n0 = lab0\n",
    "n1 = lab1\n",
    "\n",
    "labels=[n0,n1]\n",
    "\n",
    "#visit probability vec\n",
    "rw_visits = np.zeros( (num_nodes, 2) )\n",
    "last_rw_visits = np.copy(rw_visits)\n",
    "\n",
    "nodes = range(num_nodes)\n",
    "\n",
    "print(\"Alpha = %.3f\" %(alpha))\n",
    "\n",
    "#COMM0\n",
    "for s0 in range(1,steps+1):\n",
    "\n",
    "    #start from\n",
    "    #go back to labeled node? prob = 1-alpha; prob to trans = alpha\n",
    "    if (uniform() < alpha): #\n",
    "        trans_probs = T[:,n0].view(np.ndarray).flatten() \n",
    "        trans_to = int( choice(nodes, 1, p = trans_probs) )\n",
    "        n0 = trans_to\n",
    "    else:\n",
    "        n0 = lab0\n",
    "\n",
    "    rw_visits[n0,0] += 1\n",
    "    \n",
    "    if (s0 % convcheckfreq == 0):\n",
    "        diff_rw_visits = ((rw_visits[:,0]/s0 - last_rw_visits[:,0]/s0)**2).sum()\n",
    "        print(\"At step %d, diff %.10f\" %(s0, diff_rw_visits) )\n",
    "        if ((diff_rw_visits) < conv_thr):# and np.all(rw_visits != last_rw_visits)):\n",
    "            print(\"Converged at <%.10f\" % conv_thr)\n",
    "            break\n",
    "        last_rw_visits = np.copy(rw_visits)\n",
    "\n",
    "#COMM1\n",
    "for s1 in range(1,steps+1):\n",
    "\n",
    "    #start from\n",
    "    #go back to labeled node? prob = 1-alpha; prob to trans = alpha\n",
    "    if (uniform() < alpha):\n",
    "        trans_probs = T[:,n1].view(np.ndarray).flatten() \n",
    "        trans_to = int( choice(nodes, 1, p = trans_probs) )\n",
    "        n1 = trans_to\n",
    "    else:\n",
    "        n1 = lab1\n",
    "\n",
    "    rw_visits[n1,1] += 1\n",
    "    \n",
    "    if (s1 % convcheckfreq == 0):\n",
    "        diff_rw_visits = ((rw_visits[:,1]/s1 - last_rw_visits[:,1]/s1)**2).sum()\n",
    "        print(\"At step %d, diff %.10f\" %(s1, diff_rw_visits) )\n",
    "        if ((diff_rw_visits) < conv_thr):# and np.all(rw_visits != last_rw_visits)):\n",
    "            print(\"Converged at <%.10f\" % conv_thr)\n",
    "            break\n",
    "        last_rw_visits = np.copy(rw_visits)\n"
   ]
  },
  {
   "cell_type": "code",
   "execution_count": null,
   "metadata": {
    "collapsed": false
   },
   "outputs": [],
   "source": [
    "#comm_cf = ( (probs[:,0]) > (probs[:,1]) )\n",
    "#comm_rw = ( (rw_visits[:,0]/s0) > (rw_visits[:,1]/s1) )\n",
    "#print(comm_cf, comm_rw)\n",
    "#print((rw_visits[:,0]/s0, rw_visits[:,1]/s0) )"
   ]
  },
  {
   "cell_type": "code",
   "execution_count": null,
   "metadata": {
    "collapsed": true
   },
   "outputs": [],
   "source": []
  }
 ],
 "metadata": {
  "kernelspec": {
   "display_name": "Python 3",
   "language": "python",
   "name": "python3"
  },
  "language_info": {
   "codemirror_mode": {
    "name": "ipython",
    "version": 3
   },
   "file_extension": ".py",
   "mimetype": "text/x-python",
   "name": "python",
   "nbconvert_exporter": "python",
   "pygments_lexer": "ipython3",
   "version": "3.4.3"
  }
 },
 "nbformat": 4,
 "nbformat_minor": 0
}
